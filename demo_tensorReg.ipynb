{
 "cells": [
  {
   "cell_type": "markdown",
   "metadata": {},
   "source": [
    "Import packages and activate MATLAB engine for calling TensorReg function "
   ]
  },
  {
   "cell_type": "code",
   "execution_count": null,
   "metadata": {},
   "outputs": [],
   "source": [
    "import matlab.engine\n",
    "import numpy as np\n",
    "\n",
    "eng = matlab.engine.start_matlab()\n",
    "\n",
    "#Please enter the path on your system to the tensor toolbox:\n",
    "#https://github.com/andrewssobral/tensor_toolbox\n",
    "tensor_path = '/path/to/tensor_toolbox'\n",
    "eng.addpath(tensor_path)"
   ]
  },
  {
   "cell_type": "code",
   "execution_count": 29,
   "metadata": {},
   "outputs": [],
   "source": [
    "# This variable corresponds to the 'mypathsave' variable from demo_SPHARM.ipynb\n",
    "mypathSPHARM = 'Path to directory where SPHARM matrices are saved'"
   ]
  },
  {
   "cell_type": "markdown",
   "metadata": {},
   "source": [
    "Apply TensorReg classification and output the TensorReg classification matrix\n",
    "and the predicted class probabilities calculated from SPHARM matrices "
   ]
  },
  {
   "cell_type": "code",
   "execution_count": 30,
   "metadata": {},
   "outputs": [],
   "source": [
    "predicted_probabilities, TensorReg_matrix = eng.fun_TensorReg(mypathSPHARM, nargout=2)\n",
    "\n",
    "TensorReg_matrix = np.array(TensorReg_matrix)\n",
    "predicted_probabilities = np.array(predicted_probabilities)\n"
   ]
  }
 ],
 "metadata": {
  "kernelspec": {
   "display_name": ".venv",
   "language": "python",
   "name": "python3"
  },
  "language_info": {
   "codemirror_mode": {
    "name": "ipython",
    "version": 3
   },
   "file_extension": ".py",
   "mimetype": "text/x-python",
   "name": "python",
   "nbconvert_exporter": "python",
   "pygments_lexer": "ipython3",
   "version": "3.9.13"
  }
 },
 "nbformat": 4,
 "nbformat_minor": 2
}
