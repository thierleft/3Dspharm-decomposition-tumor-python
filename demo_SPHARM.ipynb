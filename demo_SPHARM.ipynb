{
 "cells": [
  {
   "cell_type": "markdown",
   "metadata": {},
   "source": [
    "Import packages and activate MATLAB engine for calling the SPHARM decomposition function "
   ]
  },
  {
   "cell_type": "code",
   "execution_count": null,
   "metadata": {},
   "outputs": [],
   "source": [
    "from os.path import join,basename,isdir\n",
    "from os import mkdir\n",
    "from glob import glob\n",
    "import matlab.engine\n",
    "import numpy as np\n",
    "import scipy.io as sio\n",
    "import pandas as pd\n",
    "\n",
    "eng = matlab.engine.start_matlab()\n",
    "\n",
    "eng.addpath('functionDep')\n",
    "\n",
    "# path to the NFSFT matlab library included in the following package\n",
    "# https://www-user.tu-chemnitz.de/~potts/nfft/\n",
    "# please change to correct path on your system\n",
    "nfsft_path = '/path/to/nfsft/'\n",
    "eng.addpath(nfsft_path)\n"
   ]
  },
  {
   "cell_type": "markdown",
   "metadata": {},
   "source": [
    "Provide paths to segmentations and images and list files in directories"
   ]
  },
  {
   "cell_type": "code",
   "execution_count": 25,
   "metadata": {},
   "outputs": [],
   "source": [
    "mypathseg   = 'Path to segmentations'\n",
    "mypathimg   = 'Path to images'\n",
    "\n",
    "mypathsave  = 'Path to where SPHARM matrices will be saved'\n",
    "\n",
    "if(not isdir(mypathsave)):\n",
    "    mkdir(mypathsave)\n",
    "\n",
    "# List of input image files \n",
    "# Filenames are assumed to be the same within the segmentation and image directories\n",
    "# Images are expected to be in nifti format (.nii or .nii.gz)\n",
    "input_images = []\n",
    "for file in glob(join(mypathimg,'*.nii*')):\n",
    "    input_images.append(basename(file))\n",
    "\n",
    "input_images.sort()\n"
   ]
  },
  {
   "cell_type": "code",
   "execution_count": 26,
   "metadata": {},
   "outputs": [],
   "source": [
    "#This is the path to a CSV file with two columns, assumed to be named \"ID\" and \"Label\"\n",
    "# see README file for more information\n",
    "\n",
    "mypath_labelsCSV = '/path/to/csv/file/with/binary/labels.csv'\n",
    "\n",
    "outcomes_df=pd.read_csv(mypath_labelsCSV)\n",
    "outcomes_df.set_index('ID',inplace=True)"
   ]
  },
  {
   "cell_type": "markdown",
   "metadata": {},
   "source": [
    "Apply SPHARM decomposition of segmented regions in images"
   ]
  },
  {
   "cell_type": "code",
   "execution_count": null,
   "metadata": {},
   "outputs": [],
   "source": [
    "R_max = 25.0 #needs to be float, not int\n",
    "L_max = 25.0 #needs to be float, not int\n",
    "\n",
    "for i in range(len(input_images)):\n",
    "    current_img = input_images[i]\n",
    "    img_ID = current_img.split('.')\n",
    "    img_ID = img_ID[0]\n",
    "    \n",
    "    # Calculate SPHARM decomposition matrix\n",
    "    flmr_in = eng.fun_spharm(join(mypathimg,input_images[i]),join(mypathseg,input_images[i]),R_max,L_max)\n",
    "    flmr_in = np.asarray(flmr_in)\n",
    "\n",
    "    label = outcomes_df.loc[img_ID, 'Label']\n",
    "\n",
    "    # Save SPHARM decomposition matrix and its associated label as a Matlab file\n",
    "    sio.savemat((join(mypathsave,img_ID)+'.mat'),{'flmr_in':flmr_in, 'label':label})\n",
    "    print('Exported '+img_ID)"
   ]
  }
 ],
 "metadata": {
  "kernelspec": {
   "display_name": "Python 3",
   "language": "python",
   "name": "python3"
  },
  "language_info": {
   "codemirror_mode": {
    "name": "ipython",
    "version": 3
   },
   "file_extension": ".py",
   "mimetype": "text/x-python",
   "name": "python",
   "nbconvert_exporter": "python",
   "pygments_lexer": "ipython3",
   "version": "3.9.13"
  }
 },
 "nbformat": 4,
 "nbformat_minor": 2
}
